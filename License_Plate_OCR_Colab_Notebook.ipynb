{
 "cells": [
  {
   "cell_type": "markdown",
   "id": "1ece03f8",
   "metadata": {},
   "source": [
    "# 🚗 License Plate Detection & OCR (YOLOv8 + Tesseract OCR)\n",
    "This Colab notebook demonstrates how to detect and recognize license plates from video using **YOLOv8**, **OpenCV**, and **Tesseract OCR**."
   ]
  },
  {
   "cell_type": "code",
   "execution_count": null,
   "id": "381aec87",
   "metadata": {},
   "outputs": [],
   "source": [
    "!pip install ultralytics opencv-python pytesseract\n",
    "!apt install tesseract-ocr -y"
   ]
  },
  {
   "cell_type": "code",
   "execution_count": null,
   "id": "fc71eb25",
   "metadata": {},
   "outputs": [],
   "source": [
    "import cv2\n",
    "import pytesseract\n",
    "from ultralytics import YOLO\n",
    "import os\n",
    "import re\n",
    "import pandas as pd\n",
    "from google.colab import files\n",
    "from IPython.display import display, clear_output\n",
    "from PIL import Image\n",
    "import matplotlib.pyplot as plt\n"
   ]
  },
  {
   "cell_type": "markdown",
   "id": "5ab447ef",
   "metadata": {},
   "source": [
    "## 📥 Upload a Video File"
   ]
  },
  {
   "cell_type": "code",
   "execution_count": null,
   "id": "d15d0e08",
   "metadata": {},
   "outputs": [],
   "source": [
    "uploaded = files.upload()\n",
    "video_path = list(uploaded.keys())[0]\n"
   ]
  },
  {
   "cell_type": "markdown",
   "id": "fe92f2a3",
   "metadata": {},
   "source": [
    "## 🧠 Load YOLOv8 Model"
   ]
  },
  {
   "cell_type": "code",
   "execution_count": null,
   "id": "bf48d1b4",
   "metadata": {},
   "outputs": [],
   "source": [
    "# Replace with your custom model if available\n",
    "model = YOLO(\"yolov8n.pt\")  # or use 'best.pt'\n"
   ]
  },
  {
   "cell_type": "code",
   "execution_count": null,
   "id": "84c67435",
   "metadata": {},
   "outputs": [],
   "source": [
    "def preprocess_for_ocr(img):\n",
    "    gray = cv2.cvtColor(img, cv2.COLOR_BGR2GRAY)\n",
    "    resized = cv2.resize(gray, None, fx=3, fy=3, interpolation=cv2.INTER_LINEAR)\n",
    "    blur = cv2.GaussianBlur(resized, (5, 5), 0)\n",
    "    _, thresh = cv2.threshold(blur, 0, 255, cv2.THRESH_BINARY + cv2.THRESH_OTSU)\n",
    "    return thresh\n"
   ]
  },
  {
   "cell_type": "markdown",
   "id": "744f82d2",
   "metadata": {},
   "source": [
    "## 🔁 Run Detection and OCR on Each Frame"
   ]
  },
  {
   "cell_type": "code",
   "execution_count": null,
   "id": "f06dba5d",
   "metadata": {},
   "outputs": [],
   "source": [
    "cap = cv2.VideoCapture(video_path)\n",
    "frame_count = 0\n",
    "ocr_results = []\n",
    "\n",
    "while cap.isOpened():\n",
    "    ret, frame = cap.read()\n",
    "    if not ret:\n",
    "        break\n",
    "\n",
    "    frame_count += 1\n",
    "    results = model.predict(frame, imgsz=640, conf=0.5, device='cpu')[0]\n",
    "\n",
    "    for box in results.boxes:\n",
    "        x1, y1, x2, y2 = map(int, box.xyxy[0].tolist())\n",
    "        cropped = frame[y1:y2, x1:x2]\n",
    "        preprocessed = preprocess_for_ocr(cropped)\n",
    "        text = pytesseract.image_to_string(preprocessed, config=\"--psm 6\")\n",
    "        cleaned = re.sub(r'[^A-Z0-9\\-]', '', text.upper())\n",
    "\n",
    "        if 2 < len(cleaned) <= 12:\n",
    "            ocr_results.append((frame_count, cleaned))\n",
    "            cv2.rectangle(frame, (x1, y1), (x2, y2), (0,255,0), 2)\n",
    "            cv2.putText(frame, cleaned, (x1, y1-10), cv2.FONT_HERSHEY_SIMPLEX, 0.7, (255,255,255), 2)\n",
    "\n",
    "    clear_output(wait=True)\n",
    "    display(Image.fromarray(cv2.cvtColor(frame, cv2.COLOR_BGR2RGB)))\n",
    "\n",
    "cap.release()\n"
   ]
  },
  {
   "cell_type": "markdown",
   "id": "22cc95c2",
   "metadata": {},
   "source": [
    "## 💾 Save OCR Results to CSV"
   ]
  },
  {
   "cell_type": "code",
   "execution_count": null,
   "id": "65af08e2",
   "metadata": {},
   "outputs": [],
   "source": [
    "df = pd.DataFrame(ocr_results, columns=[\"Frame\", \"License_Plate_Text\"])\n",
    "df.to_csv(\"video_ocr_results.csv\", index=False)\n",
    "files.download(\"video_ocr_results.csv\")\n"
   ]
  },
  {
   "cell_type": "markdown",
   "id": "2cfb1e6f",
   "metadata": {},
   "source": [
    "---\n",
    "🚀 Notebook generated on: **2025-07-15**"
   ]
  }
 ],
 "metadata": {},
 "nbformat": 4,
 "nbformat_minor": 5
}
